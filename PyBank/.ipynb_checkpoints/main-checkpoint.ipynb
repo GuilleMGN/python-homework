{
 "cells": [
  {
   "cell_type": "code",
   "execution_count": 60,
   "id": "993f3dfd-b5dc-4f0e-924d-4886e7bcd8d5",
   "metadata": {},
   "outputs": [
    {
     "name": "stdout",
     "output_type": "stream",
     "text": [
      "Hello World!\n"
     ]
    }
   ],
   "source": [
    "print(\"Hello World!\")"
   ]
  },
  {
   "cell_type": "code",
   "execution_count": 61,
   "id": "e5dcabed-3cf2-474d-ae85-5b5314bf3ccb",
   "metadata": {},
   "outputs": [
    {
     "name": "stdout",
     "output_type": "stream",
     "text": [
      "Current Working Directory: C:\\Users\\GuilleMGN\\Documents\\python-homework\\PyBank\n"
     ]
    }
   ],
   "source": [
    "# Import Path class from the pathlib library, and csv\n",
    "from pathlib import Path\n",
    "import csv\n",
    "# Checks current work directory\n",
    "print(f\"Current Working Directory: {Path.cwd()}\")\n",
    "# Specify Path\n",
    "csvpath = Path(\"budget_data.csv\")"
   ]
  },
  {
   "cell_type": "code",
   "execution_count": 67,
   "id": "ecf20b4b-32a3-43b2-8684-8f12c4747204",
   "metadata": {},
   "outputs": [],
   "source": [
    "# Initialize all variables\n",
    "records = []\n",
    "changes = []\n",
    "total_months = 0\n",
    "total = 0\n",
    "change = 0\n",
    "previous = 0\n",
    "average_change = 0\n",
    "greatest_increase_profits = 0\n",
    "greatest_increase_date = None\n",
    "greatest_decrease_profits = 0\n",
    "greatest_decrease_date = None\n",
    "\n",
    "# Open csv file as an object\n",
    "with open(csvpath, \"r\") as csvfile:\n",
    "#     Separate with commas\n",
    "    csvreader = csv.reader(csvfile, delimiter=\",\")\n",
    "#     Skip header\n",
    "    csv_header = next(csvreader)\n",
    "    # print(csv_header)\n",
    "        \n",
    "#     Read each row after the header\n",
    "    for row in csvreader:\n",
    "        # print(row)\n",
    "        total_months = total_months + 1\n",
    "        date = row[0]\n",
    "        profit_losses = int(row[1])\n",
    "        total = total + profit_losses\n",
    "        change = profit_losses - previous\n",
    "        # print(change)\n",
    "        changes.append(change)\n",
    "        previous = profit_losses\n",
    "        \n",
    "#     Function to calculate average\n",
    "    def Average(list):\n",
    "        return sum(list) / len(list) \n",
    "    average_change = round(Average(changes), 2)\n",
    "    \n",
    "    # print(average_change)\n",
    "    # print(f\"changes: {changes}\")\n",
    "    # print(f\"average_change: {average_change}\")\n",
    "    # print(f\"total_months: {total_months}\")"
   ]
  },
  {
   "cell_type": "code",
   "execution_count": 44,
   "id": "1b1c1935-1252-4c00-bf57-7390f043a6e0",
   "metadata": {},
   "outputs": [
    {
     "name": "stdout",
     "output_type": "stream",
     "text": [
      "Financial Analysis\n",
      "----------------------------\n",
      "Total Months: 86\n",
      "Total: $38382578\n",
      "Average Change: $5189.64\n",
      "Greatest Increase in Profits: 0 ($0)\n",
      "Greatest Increase in Profits: 0 ($0)\n",
      "\n"
     ]
    }
   ],
   "source": [
    "# Display Financial Analysis template\n",
    "print(\"Financial Analysis\")\n",
    "print(\"----------------------------\")\n",
    "print(f\"Total Months: {total_months}\")\n",
    "print(f\"Total: ${total}\")\n",
    "print(f\"Average Change: ${average_change}\")\n",
    "print(f\"Greatest Increase in Profits: {greatest_increase_date} (${greatest_increase_profits})\")\n",
    "print(f\"Greatest Increase in Profits: {greatest_decrease_date} (${greatest_decrease_profits})\")\n",
    "print(\"\")"
   ]
  },
  {
   "cell_type": "code",
   "execution_count": null,
   "id": "41f30272-2f69-4631-9cae-03101a746216",
   "metadata": {},
   "outputs": [],
   "source": []
  }
 ],
 "metadata": {
  "kernelspec": {
   "display_name": "Python 3 (ipykernel)",
   "language": "python",
   "name": "python3"
  },
  "language_info": {
   "codemirror_mode": {
    "name": "ipython",
    "version": 3
   },
   "file_extension": ".py",
   "mimetype": "text/x-python",
   "name": "python",
   "nbconvert_exporter": "python",
   "pygments_lexer": "ipython3",
   "version": "3.8.8"
  }
 },
 "nbformat": 4,
 "nbformat_minor": 5
}
