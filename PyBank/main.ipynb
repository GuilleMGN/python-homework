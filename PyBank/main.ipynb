{
 "cells": [
  {
   "cell_type": "code",
   "execution_count": 68,
   "id": "e5dcabed-3cf2-474d-ae85-5b5314bf3ccb",
   "metadata": {},
   "outputs": [
    {
     "name": "stdout",
     "output_type": "stream",
     "text": [
      "Current Working Directory: C:\\Users\\GuilleMGN\\Documents\\python-homework\\PyBank\n"
     ]
    }
   ],
   "source": [
    "# Import Path class from the pathlib library, and csv\n",
    "from pathlib import Path\n",
    "import csv\n",
    "# Checks current work directory\n",
    "print(f\"Current Working Directory: {Path.cwd()}\")\n",
    "# Specify Path\n",
    "csvpath = Path(\"budget_data.csv\")"
   ]
  },
  {
   "cell_type": "code",
   "execution_count": 83,
   "id": "ecf20b4b-32a3-43b2-8684-8f12c4747204",
   "metadata": {},
   "outputs": [],
   "source": [
    "# Initialize all variables\n",
    "records = []\n",
    "changes = []\n",
    "total_months = 0\n",
    "total = 0\n",
    "change = 0\n",
    "previous = 0\n",
    "average_change = 0\n",
    "greatest_increase_profits = 0\n",
    "greatest_increase_date = None\n",
    "increase_amount = 0\n",
    "greatest_decrease_profits = 0\n",
    "greatest_decrease_date = None\n",
    "decrease_amount = 0\n",
    "\n",
    "# Open csv file as an object\n",
    "with open(csvpath, \"r\") as csvfile:\n",
    "#     Separate with commas\n",
    "    csvreader = csv.reader(csvfile, delimiter=\",\")\n",
    "#     Skip header\n",
    "    csv_header = next(csvreader)\n",
    "    # print(csv_header)\n",
    "        \n",
    "#     Read each row after the header\n",
    "    for row in csvreader:\n",
    "        # print(row)\n",
    "        total_months = total_months + 1\n",
    "        date = row[0]\n",
    "        profit_losses = int(row[1])\n",
    "        total = total + profit_losses\n",
    "        change = profit_losses - previous\n",
    "        # print(change)\n",
    "        changes.append(change)\n",
    "        previous = profit_losses\n",
    "#         Check greatest increase/decrease\n",
    "        if profit_losses > greatest_increase_profits:\n",
    "            greatest_increase_profits = profit_losses\n",
    "            greatest_increase_date = date\n",
    "            increase_amount = change\n",
    "        elif profit_losses < greatest_decrease_profits:\n",
    "            greatest_decrease_profits = profit_losses\n",
    "            greatest_decrease_date = date\n",
    "            decrease_amount = change\n",
    "        \n",
    "#     Function to calculate average\n",
    "    def Average(list):\n",
    "        return sum(list) / len(list) \n",
    "    average_change = round(Average(changes), 2)\n",
    "    \n",
    "    # print(average_change)\n",
    "    # print(f\"changes: {changes}\")\n",
    "    # print(f\"average_change: {average_change}\")\n",
    "    # print(f\"total_months: {total_months}\")"
   ]
  },
  {
   "cell_type": "code",
   "execution_count": 84,
   "id": "1b1c1935-1252-4c00-bf57-7390f043a6e0",
   "metadata": {},
   "outputs": [
    {
     "name": "stdout",
     "output_type": "stream",
     "text": [
      "Financial Analysis\n",
      "----------------------------\n",
      "Total Months: 86\n",
      "Total: $38382578\n",
      "Average Change: $7803.48\n",
      "Greatest Increase in Profits: Feb-2012 ($1926159)\n",
      "Greatest Decrease in Profits: Sep-2013 ($-2196167)\n"
     ]
    }
   ],
   "source": [
    "# Display Financial Analysis template\n",
    "print(\"Financial Analysis\")\n",
    "print(\"----------------------------\")\n",
    "print(f\"Total Months: {total_months}\")\n",
    "print(f\"Total: ${total}\")\n",
    "print(f\"Average Change: ${average_change}\")\n",
    "print(f\"Greatest Increase in Profits: {greatest_increase_date} (${increase_amount})\")\n",
    "print(f\"Greatest Decrease in Profits: {greatest_decrease_date} (${decrease_amount})\")"
   ]
  },
  {
   "cell_type": "code",
   "execution_count": null,
   "id": "41f30272-2f69-4631-9cae-03101a746216",
   "metadata": {},
   "outputs": [],
   "source": []
  }
 ],
 "metadata": {
  "kernelspec": {
   "display_name": "Python 3 (ipykernel)",
   "language": "python",
   "name": "python3"
  },
  "language_info": {
   "codemirror_mode": {
    "name": "ipython",
    "version": 3
   },
   "file_extension": ".py",
   "mimetype": "text/x-python",
   "name": "python",
   "nbconvert_exporter": "python",
   "pygments_lexer": "ipython3",
   "version": "3.8.8"
  }
 },
 "nbformat": 4,
 "nbformat_minor": 5
}
